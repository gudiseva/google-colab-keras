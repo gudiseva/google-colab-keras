{
  "nbformat": 4,
  "nbformat_minor": 0,
  "metadata": {
    "kernelspec": {
      "display_name": "Python 2",
      "language": "python",
      "name": "python2"
    },
    "language_info": {
      "codemirror_mode": {
        "name": "ipython",
        "version": 2
      },
      "file_extension": ".py",
      "mimetype": "text/x-python",
      "name": "python",
      "nbconvert_exporter": "python",
      "pygments_lexer": "ipython2",
      "version": "2.7.13"
    },
    "colab": {
      "name": "A Gentle Introduction to Keras.ipynb",
      "version": "0.3.2",
      "provenance": [],
      "include_colab_link": true
    }
  },
  "cells": [
    {
      "cell_type": "markdown",
      "metadata": {
        "id": "view-in-github",
        "colab_type": "text"
      },
      "source": [
        "<a href=\"https://colab.research.google.com/github/gudiseva/google-colab-keras/blob/master/A%20Gentle%20Introduction%20to%20Keras.ipynb\" target=\"_parent\"><img src=\"https://colab.research.google.com/assets/colab-badge.svg\" alt=\"Open In Colab\"/></a>"
      ]
    },
    {
      "cell_type": "markdown",
      "metadata": {
        "id": "a0w84kLD3rar",
        "colab_type": "text"
      },
      "source": [
        "This course focuses on a specific sub-field of machine learning called **predictive modeling.**\n",
        "\n",
        "Within predicitve modeling is a speciality or another sub-field called **deep learning.**\n",
        "\n",
        "We will be crafting deep learning models with a library called Keras. \n",
        "\n",
        ">**Predictive modeling** is focused on developing models that make accurate predictions at the expense of explaining why predictions are made. \n",
        "\n",
        "You and I don't need to be able to write a binary classification model. We need to know how to use and interpret the results of the model. "
      ]
    },
    {
      "cell_type": "markdown",
      "metadata": {
        "id": "B-SKecHG3rao",
        "colab_type": "text"
      },
      "source": [
        "# Welcome to A Gentle Introduction to Deep Learning Keras "
      ]
    },
    {
      "cell_type": "markdown",
      "metadata": {
        "id": "ubs9ulo23ras",
        "colab_type": "text"
      },
      "source": [
        "**Where does machine learning fit into data science?**\n",
        "\n",
        "Data science is a much broader discipline. \n",
        "\n",
        "> Data Scientists take the raw data, analyse it, connect the dots and tell a story often via several visualizations. They usually have a broader range of skill-set and may not have too much depth into more than one or two. They are more on the creative side. Like an Artist. An Engineer, on the other hand, is someone who looks at the data as something they have to take in and churn out an output in some appropriate form in the most efficient way possible. The implementation details and other efficiency hacks are usually on the tip of their fingers. There can be a lot of overlap between the two but it is more like A Data Scientist is a Machine Learning Engineer but not the other way round. -- Ria Chakraborty, Data Scientist\n",
        "\n",
        "\n",
        "\n"
      ]
    },
    {
      "cell_type": "markdown",
      "metadata": {
        "id": "xr4Cm98r3rat",
        "colab_type": "text"
      },
      "source": [
        "# Step 1. Import our modules\n",
        "\n",
        "Two important points here. Firstly, the **from** means we aren't importing the entire library, only a specific module. Secondly, notice we **are** imporing the entire numpy library. \n",
        "\n",
        "> If you get a message that states: WARNING (theano.configdefaults): g++ not detected, blah... blah. Run this in your Anaconda prompt. \n",
        "\n",
        "conda install mingw libpython\n",
        "\n"
      ]
    },
    {
      "cell_type": "code",
      "metadata": {
        "id": "m41E9p6v3rat",
        "colab_type": "code",
        "colab": {
          "base_uri": "https://localhost:8080/",
          "height": 34
        },
        "outputId": "8e80cba9-98b7-4e90-fafe-cbfded681b73"
      },
      "source": [
        "from keras.models import Sequential\n",
        "from keras.layers import Dense\n",
        "import numpy"
      ],
      "execution_count": 1,
      "outputs": [
        {
          "output_type": "stream",
          "text": [
            "Using TensorFlow backend.\n"
          ],
          "name": "stderr"
        }
      ]
    },
    {
      "cell_type": "markdown",
      "metadata": {
        "id": "IfAdz1eW3rax",
        "colab_type": "text"
      },
      "source": [
        "# Step 2.  Set our random seed\n"
      ]
    },
    {
      "cell_type": "markdown",
      "metadata": {
        "id": "3lqR127B3ray",
        "colab_type": "text"
      },
      "source": [
        "Run an algorithm on a dataset and you've built a great model. Can you produce the same model again given the same data?\n",
        "You should be able to. It should be a requirement that is high on the list for your modeling project.\n",
        "\n",
        "> We achieve reproducibility in applied machine learning by using the exact same code, data and sequence of random numbers.\n",
        "\n",
        "Random numbers are created using a random number generator. It’s a simple program that generates a sequence of numbers that are random enough for most applications.\n",
        "\n",
        "This math function is deterministic. If it uses the same starting point called a seed number, it will give the same sequence of random numbers.\n",
        "\n",
        "Hold on... what's **deterministic** mean? \n",
        "\n",
        "> \"a deterministic algorithm is an algorithm which, given a particular input, will always produce the same output, with the underlying machine always passing through the same sequence of states\"\n",
        "\n",
        "Let's apply an English translator to this: \n",
        "\n",
        "> The **only purpose of seeding** is to make sure that you get the **exact same result** when you run this code many times on the exact same data."
      ]
    },
    {
      "cell_type": "code",
      "metadata": {
        "id": "UHKJnl7Z3ray",
        "colab_type": "code",
        "colab": {}
      },
      "source": [
        "seed = 9\n",
        "numpy.random.seed(seed)"
      ],
      "execution_count": 0,
      "outputs": []
    },
    {
      "cell_type": "markdown",
      "metadata": {
        "id": "H9bKxQOr3ra1",
        "colab_type": "text"
      },
      "source": [
        "# Step 3.  Import our data set\n"
      ]
    },
    {
      "cell_type": "markdown",
      "metadata": {
        "id": "VQ2dwuDF3ra2",
        "colab_type": "text"
      },
      "source": [
        "Let's import the object called read_csv. \n",
        "\n",
        "We define a variable called filename and put our data set in it. \n",
        "\n",
        "The last line does the work. It using the function called **read_csv** to put the contents of our data set into a variable called dataframe. "
      ]
    },
    {
      "cell_type": "code",
      "metadata": {
        "id": "wI2nF1qm3ra3",
        "colab_type": "code",
        "colab": {}
      },
      "source": [
        "from pandas import read_csv\n",
        "filename = 'https://raw.githubusercontent.com/gudiseva/google-colab-keras/master/BBCN.csv'\n",
        "dataframe = read_csv(filename)"
      ],
      "execution_count": 0,
      "outputs": []
    },
    {
      "cell_type": "markdown",
      "metadata": {
        "id": "Qm6UcP9z3ra5",
        "colab_type": "text"
      },
      "source": [
        "# Step 4.  Split the Output Variables\n"
      ]
    },
    {
      "cell_type": "markdown",
      "metadata": {
        "id": "MwPr8WgN3ra6",
        "colab_type": "text"
      },
      "source": [
        "The first thing we need to do is put our data in an array. \n",
        "\n",
        "> An array is a data structure that stores values of **same data type**. \n",
        "\n",
        "In Python, this is the main difference between arrays and lists. While python lists can contain values corresponding to different data types, arrays in python can only contain values corresponding to same data type."
      ]
    },
    {
      "cell_type": "code",
      "metadata": {
        "id": "D7Mwb-1t3ra6",
        "colab_type": "code",
        "colab": {}
      },
      "source": [
        "array = dataframe.values"
      ],
      "execution_count": 0,
      "outputs": []
    },
    {
      "cell_type": "markdown",
      "metadata": {
        "id": "w8Ay6VtI3ra9",
        "colab_type": "text"
      },
      "source": [
        "The code below is the trickest part of the exercise. Now, we are assinging X and y as output variables.\n",
        "\n",
        "> That looks pretty easy but keep in mind that an array starts at 0. \n",
        "\n",
        "If you take a look at the shape of our dataframe (shape means the number of columns and rows) you can see we have 12 rows. \n",
        "\n",
        "On the X array below we saying... include all items in the array from 0 to 11. \n",
        "\n",
        "On the y array below we are saying... just use the column in the array mapped to the **11th row**. The **BikeBuyer** column. \n",
        "\n",
        "> Before we split X and Y out we are going to put them in an array. \n",
        "\n",
        "\n"
      ]
    },
    {
      "cell_type": "code",
      "metadata": {
        "id": "CeG565B73ra-",
        "colab_type": "code",
        "colab": {}
      },
      "source": [
        "X = array[:,0:11] \n",
        "Y = array[:,11]"
      ],
      "execution_count": 0,
      "outputs": []
    },
    {
      "cell_type": "code",
      "metadata": {
        "id": "LWBqTLUb3rbA",
        "colab_type": "code",
        "colab": {
          "base_uri": "https://localhost:8080/",
          "height": 224
        },
        "outputId": "c40b295f-1b75-4938-ef02-caf144bf5ecd"
      },
      "source": [
        "dataframe.head()"
      ],
      "execution_count": 7,
      "outputs": [
        {
          "output_type": "execute_result",
          "data": {
            "text/html": [
              "<div>\n",
              "<style scoped>\n",
              "    .dataframe tbody tr th:only-of-type {\n",
              "        vertical-align: middle;\n",
              "    }\n",
              "\n",
              "    .dataframe tbody tr th {\n",
              "        vertical-align: top;\n",
              "    }\n",
              "\n",
              "    .dataframe thead th {\n",
              "        text-align: right;\n",
              "    }\n",
              "</style>\n",
              "<table border=\"1\" class=\"dataframe\">\n",
              "  <thead>\n",
              "    <tr style=\"text-align: right;\">\n",
              "      <th></th>\n",
              "      <th>MaritalStatus</th>\n",
              "      <th>Gender</th>\n",
              "      <th>YearlyIncome</th>\n",
              "      <th>TotalChildren</th>\n",
              "      <th>NumberChildrenAtHome</th>\n",
              "      <th>EnglishEducation</th>\n",
              "      <th>HouseOwnerFlag</th>\n",
              "      <th>NumberCarsOwned</th>\n",
              "      <th>CommuteDistance</th>\n",
              "      <th>Region</th>\n",
              "      <th>Age</th>\n",
              "      <th>BikeBuyer</th>\n",
              "    </tr>\n",
              "  </thead>\n",
              "  <tbody>\n",
              "    <tr>\n",
              "      <th>0</th>\n",
              "      <td>5</td>\n",
              "      <td>1</td>\n",
              "      <td>9.0</td>\n",
              "      <td>2</td>\n",
              "      <td>0</td>\n",
              "      <td>5</td>\n",
              "      <td>1</td>\n",
              "      <td>0</td>\n",
              "      <td>2</td>\n",
              "      <td>2</td>\n",
              "      <td>5</td>\n",
              "      <td>1</td>\n",
              "    </tr>\n",
              "    <tr>\n",
              "      <th>1</th>\n",
              "      <td>5</td>\n",
              "      <td>1</td>\n",
              "      <td>6.0</td>\n",
              "      <td>3</td>\n",
              "      <td>3</td>\n",
              "      <td>5</td>\n",
              "      <td>0</td>\n",
              "      <td>1</td>\n",
              "      <td>1</td>\n",
              "      <td>2</td>\n",
              "      <td>4</td>\n",
              "      <td>1</td>\n",
              "    </tr>\n",
              "    <tr>\n",
              "      <th>2</th>\n",
              "      <td>5</td>\n",
              "      <td>1</td>\n",
              "      <td>6.0</td>\n",
              "      <td>3</td>\n",
              "      <td>3</td>\n",
              "      <td>5</td>\n",
              "      <td>1</td>\n",
              "      <td>1</td>\n",
              "      <td>5</td>\n",
              "      <td>2</td>\n",
              "      <td>4</td>\n",
              "      <td>1</td>\n",
              "    </tr>\n",
              "    <tr>\n",
              "      <th>3</th>\n",
              "      <td>5</td>\n",
              "      <td>2</td>\n",
              "      <td>7.0</td>\n",
              "      <td>0</td>\n",
              "      <td>0</td>\n",
              "      <td>5</td>\n",
              "      <td>0</td>\n",
              "      <td>1</td>\n",
              "      <td>10</td>\n",
              "      <td>2</td>\n",
              "      <td>5</td>\n",
              "      <td>1</td>\n",
              "    </tr>\n",
              "    <tr>\n",
              "      <th>4</th>\n",
              "      <td>5</td>\n",
              "      <td>2</td>\n",
              "      <td>8.0</td>\n",
              "      <td>5</td>\n",
              "      <td>5</td>\n",
              "      <td>5</td>\n",
              "      <td>1</td>\n",
              "      <td>4</td>\n",
              "      <td>2</td>\n",
              "      <td>2</td>\n",
              "      <td>5</td>\n",
              "      <td>1</td>\n",
              "    </tr>\n",
              "  </tbody>\n",
              "</table>\n",
              "</div>"
            ],
            "text/plain": [
              "   MaritalStatus  Gender  YearlyIncome  ...  Region  Age  BikeBuyer\n",
              "0              5       1           9.0  ...       2    5          1\n",
              "1              5       1           6.0  ...       2    4          1\n",
              "2              5       1           6.0  ...       2    4          1\n",
              "3              5       2           7.0  ...       2    5          1\n",
              "4              5       2           8.0  ...       2    5          1\n",
              "\n",
              "[5 rows x 12 columns]"
            ]
          },
          "metadata": {
            "tags": []
          },
          "execution_count": 7
        }
      ]
    },
    {
      "cell_type": "markdown",
      "metadata": {
        "id": "iZQGMNxW3rbE",
        "colab_type": "text"
      },
      "source": [
        "# Step 4.  Build the Model\n"
      ]
    },
    {
      "cell_type": "markdown",
      "metadata": {
        "id": "UEsOCzVT3rbF",
        "colab_type": "text"
      },
      "source": [
        "We can piece it all together by adding each layer. \n",
        "\n",
        "> The first layer has 11 neurons and expects 11 input variables. \n",
        "\n",
        "The second hidden layer has 8 neurons.\n",
        "\n",
        "The third hidden layer has 8 neurons. \n",
        "\n",
        "The output layer has 1 neuron to predict the class. \n",
        "\n",
        "How many hidden layers are in our model? "
      ]
    },
    {
      "cell_type": "code",
      "metadata": {
        "id": "HbOT2w5z3rbG",
        "colab_type": "code",
        "colab": {}
      },
      "source": [
        "model = Sequential()\n",
        "model.add(Dense(12, input_dim=11, kernel_initializer='uniform', activation='relu'))\n",
        "model.add(Dense(8, kernel_initializer='uniform', activation='relu'))\n",
        "model.add(Dense(1, kernel_initializer='uniform', activation='sigmoid'))"
      ],
      "execution_count": 0,
      "outputs": []
    },
    {
      "cell_type": "markdown",
      "metadata": {
        "id": "8TToo02z3rbI",
        "colab_type": "text"
      },
      "source": [
        "# Step 5.  Compile the Model"
      ]
    },
    {
      "cell_type": "markdown",
      "metadata": {
        "id": "tH1aA2uz3rbJ",
        "colab_type": "text"
      },
      "source": [
        "A metric is a function that is used to judge the performance of your model. Metric functions are to be supplied in the  metrics parameter when a model is compiled.\n",
        "\n",
        ">  Lastly, we set the cost (or loss) function to categorical_crossentropy. The (binary) cross-entropy is just the technical term for the **cost function** in logistic regression, and the categorical cross-entropy is its generalization for multi-class predictions via softmax"
      ]
    },
    {
      "cell_type": "markdown",
      "metadata": {
        "id": "XHtEE1YS3rbK",
        "colab_type": "text"
      },
      "source": [
        "Binary learning models are models which just predict one of two outcomes: positive or negative. These models are very well suited to drive decisions, such as whether to administer a patient a certain drug or to include a lead in a targeted marketing campaign.\n",
        "\n",
        "> Accuracy is perhaps the most intuitive performance measure. **It is simply the ratio of correctly predicted observations.**\n",
        "\n",
        "Using accuracy is only good for symmetric data sets where the class distribution is 50/50 and the cost of false positives and false negatives are roughly the same. In our case our classes are balanced. "
      ]
    },
    {
      "cell_type": "markdown",
      "metadata": {
        "id": "EvFNOMKh3rbL",
        "colab_type": "text"
      },
      "source": [
        "Whenever you train a model with your data, you are actually producing some new values (predicted) for a specific feature. However, that specific feature already has some values which are real values in the dataset. \n",
        "\n",
        "> We know the the closer the predicted values to their corresponding real values, the better the model.\n",
        "\n",
        "We are using cost function to measure **how close the predicted values are to their corresponding real values.**\n",
        "\n",
        "So, for our model we choose binary_crossentropy. "
      ]
    },
    {
      "cell_type": "code",
      "metadata": {
        "id": "Y5Dsy4Iu3rbM",
        "colab_type": "code",
        "colab": {
          "base_uri": "https://localhost:8080/",
          "height": 156
        },
        "outputId": "2a98ea92-0ada-4b56-ac8e-aa646572ad85"
      },
      "source": [
        "model.compile(loss='binary_crossentropy', optimizer='adam', metrics=['accuracy'])"
      ],
      "execution_count": 10,
      "outputs": [
        {
          "output_type": "stream",
          "text": [
            "W0902 17:06:24.653347 140677431326592 deprecation_wrapper.py:119] From /usr/local/lib/python2.7/dist-packages/keras/optimizers.py:790: The name tf.train.Optimizer is deprecated. Please use tf.compat.v1.train.Optimizer instead.\n",
            "\n",
            "W0902 17:06:24.682063 140677431326592 deprecation_wrapper.py:119] From /usr/local/lib/python2.7/dist-packages/keras/backend/tensorflow_backend.py:3376: The name tf.log is deprecated. Please use tf.math.log instead.\n",
            "\n",
            "W0902 17:06:24.689560 140677431326592 deprecation.py:323] From /usr/local/lib/python2.7/dist-packages/tensorflow/python/ops/nn_impl.py:180: where (from tensorflow.python.ops.array_ops) is deprecated and will be removed in a future version.\n",
            "Instructions for updating:\n",
            "Use tf.where in 2.0, which has the same broadcast rule as np.where\n"
          ],
          "name": "stderr"
        }
      ]
    },
    {
      "cell_type": "markdown",
      "metadata": {
        "id": "kv4eqbFR3rbP",
        "colab_type": "text"
      },
      "source": [
        "# Step 5.  Fit the Model"
      ]
    },
    {
      "cell_type": "markdown",
      "metadata": {
        "id": "bgfUCCGY3rbP",
        "colab_type": "text"
      },
      "source": [
        "**Epoch:** A full pass over all of your training data.\n",
        "\n",
        "For example, let's say you have 1213 observations. So an epoch concludes when it has finished a training pass over all 1213 of your observations.\n",
        "\n",
        "> What you'd expect to see from running fit on your Keras model, is a decrease in loss over n number of epochs."
      ]
    },
    {
      "cell_type": "markdown",
      "metadata": {
        "id": "dGWpt3k73rbQ",
        "colab_type": "text"
      },
      "source": [
        "batch_size denotes the subset size of your training sample (e.g. 100 out of 1000) which is going to be used in order to train the network during its learning process. \n",
        "\n",
        "Each batch trains network in a successive order, taking into account the updated weights coming from the appliance of the previous batch. \n",
        "\n",
        ">Example: if you have 1000 training examples, and your batch size is 500, then it will take 2 iterations to complete 1 epoch.\n",
        "\n"
      ]
    },
    {
      "cell_type": "code",
      "metadata": {
        "id": "la6yO3VW3rbR",
        "colab_type": "code",
        "colab": {
          "base_uri": "https://localhost:8080/",
          "height": 1000
        },
        "outputId": "573c848a-2f7e-4f10-9084-c3573ca96caa"
      },
      "source": [
        "model.fit(X, Y, nb_epoch=200, batch_size=30)"
      ],
      "execution_count": 11,
      "outputs": [
        {
          "output_type": "stream",
          "text": [
            "/usr/local/lib/python2.7/dist-packages/ipykernel_launcher.py:1: UserWarning: The `nb_epoch` argument in `fit` has been renamed `epochs`.\n",
            "  \"\"\"Entry point for launching an IPython kernel.\n",
            "W0902 17:07:01.636512 140677431326592 deprecation_wrapper.py:119] From /usr/local/lib/python2.7/dist-packages/keras/backend/tensorflow_backend.py:986: The name tf.assign_add is deprecated. Please use tf.compat.v1.assign_add instead.\n",
            "\n"
          ],
          "name": "stderr"
        },
        {
          "output_type": "stream",
          "text": [
            "Epoch 1/200\n",
            "500/500 [==============================] - 1s 1ms/step - loss: 0.6931 - acc: 0.5280\n",
            "Epoch 2/200\n",
            "500/500 [==============================] - 0s 42us/step - loss: 0.6928 - acc: 0.5340\n",
            "Epoch 3/200\n",
            "500/500 [==============================] - 0s 47us/step - loss: 0.6924 - acc: 0.5340\n",
            "Epoch 4/200\n",
            "500/500 [==============================] - 0s 45us/step - loss: 0.6919 - acc: 0.5340\n",
            "Epoch 5/200\n",
            "500/500 [==============================] - 0s 55us/step - loss: 0.6912 - acc: 0.5340\n",
            "Epoch 6/200\n",
            "500/500 [==============================] - 0s 62us/step - loss: 0.6904 - acc: 0.5340\n",
            "Epoch 7/200\n",
            "500/500 [==============================] - 0s 58us/step - loss: 0.6891 - acc: 0.5340\n",
            "Epoch 8/200\n",
            "500/500 [==============================] - 0s 40us/step - loss: 0.6877 - acc: 0.5340\n",
            "Epoch 9/200\n",
            "500/500 [==============================] - 0s 46us/step - loss: 0.6858 - acc: 0.5560\n",
            "Epoch 10/200\n",
            "500/500 [==============================] - 0s 41us/step - loss: 0.6835 - acc: 0.5660\n",
            "Epoch 11/200\n",
            "500/500 [==============================] - 0s 51us/step - loss: 0.6803 - acc: 0.5760\n",
            "Epoch 12/200\n",
            "500/500 [==============================] - 0s 59us/step - loss: 0.6787 - acc: 0.5960\n",
            "Epoch 13/200\n",
            "500/500 [==============================] - 0s 63us/step - loss: 0.6743 - acc: 0.5760\n",
            "Epoch 14/200\n",
            "500/500 [==============================] - 0s 62us/step - loss: 0.6696 - acc: 0.6000\n",
            "Epoch 15/200\n",
            "500/500 [==============================] - 0s 49us/step - loss: 0.6654 - acc: 0.6040\n",
            "Epoch 16/200\n",
            "500/500 [==============================] - 0s 49us/step - loss: 0.6607 - acc: 0.6120\n",
            "Epoch 17/200\n",
            "500/500 [==============================] - 0s 49us/step - loss: 0.6575 - acc: 0.6200\n",
            "Epoch 18/200\n",
            "500/500 [==============================] - 0s 48us/step - loss: 0.6538 - acc: 0.6260\n",
            "Epoch 19/200\n",
            "500/500 [==============================] - 0s 58us/step - loss: 0.6529 - acc: 0.6160\n",
            "Epoch 20/200\n",
            "500/500 [==============================] - 0s 42us/step - loss: 0.6496 - acc: 0.6320\n",
            "Epoch 21/200\n",
            "500/500 [==============================] - 0s 50us/step - loss: 0.6462 - acc: 0.6240\n",
            "Epoch 22/200\n",
            "500/500 [==============================] - 0s 47us/step - loss: 0.6447 - acc: 0.6220\n",
            "Epoch 23/200\n",
            "500/500 [==============================] - 0s 47us/step - loss: 0.6425 - acc: 0.6200\n",
            "Epoch 24/200\n",
            "500/500 [==============================] - 0s 51us/step - loss: 0.6415 - acc: 0.6260\n",
            "Epoch 25/200\n",
            "500/500 [==============================] - 0s 61us/step - loss: 0.6403 - acc: 0.6260\n",
            "Epoch 26/200\n",
            "500/500 [==============================] - 0s 48us/step - loss: 0.6432 - acc: 0.6160\n",
            "Epoch 27/200\n",
            "500/500 [==============================] - 0s 54us/step - loss: 0.6389 - acc: 0.6260\n",
            "Epoch 28/200\n",
            "500/500 [==============================] - 0s 47us/step - loss: 0.6364 - acc: 0.6200\n",
            "Epoch 29/200\n",
            "500/500 [==============================] - 0s 45us/step - loss: 0.6328 - acc: 0.6260\n",
            "Epoch 30/200\n",
            "500/500 [==============================] - 0s 44us/step - loss: 0.6316 - acc: 0.6320\n",
            "Epoch 31/200\n",
            "500/500 [==============================] - 0s 46us/step - loss: 0.6311 - acc: 0.6300\n",
            "Epoch 32/200\n",
            "500/500 [==============================] - 0s 49us/step - loss: 0.6295 - acc: 0.6320\n",
            "Epoch 33/200\n",
            "500/500 [==============================] - 0s 53us/step - loss: 0.6304 - acc: 0.6340\n",
            "Epoch 34/200\n",
            "500/500 [==============================] - 0s 49us/step - loss: 0.6271 - acc: 0.6300\n",
            "Epoch 35/200\n",
            "500/500 [==============================] - 0s 56us/step - loss: 0.6255 - acc: 0.6360\n",
            "Epoch 36/200\n",
            "500/500 [==============================] - 0s 51us/step - loss: 0.6236 - acc: 0.6360\n",
            "Epoch 37/200\n",
            "500/500 [==============================] - 0s 43us/step - loss: 0.6232 - acc: 0.6360\n",
            "Epoch 38/200\n",
            "500/500 [==============================] - 0s 50us/step - loss: 0.6209 - acc: 0.6440\n",
            "Epoch 39/200\n",
            "500/500 [==============================] - 0s 46us/step - loss: 0.6221 - acc: 0.6380\n",
            "Epoch 40/200\n",
            "500/500 [==============================] - 0s 48us/step - loss: 0.6180 - acc: 0.6360\n",
            "Epoch 41/200\n",
            "500/500 [==============================] - 0s 55us/step - loss: 0.6203 - acc: 0.6280\n",
            "Epoch 42/200\n",
            "500/500 [==============================] - 0s 53us/step - loss: 0.6186 - acc: 0.6540\n",
            "Epoch 43/200\n",
            "500/500 [==============================] - 0s 49us/step - loss: 0.6184 - acc: 0.6460\n",
            "Epoch 44/200\n",
            "500/500 [==============================] - 0s 46us/step - loss: 0.6152 - acc: 0.6420\n",
            "Epoch 45/200\n",
            "500/500 [==============================] - 0s 51us/step - loss: 0.6124 - acc: 0.6500\n",
            "Epoch 46/200\n",
            "500/500 [==============================] - 0s 43us/step - loss: 0.6123 - acc: 0.6460\n",
            "Epoch 47/200\n",
            "500/500 [==============================] - 0s 45us/step - loss: 0.6099 - acc: 0.6540\n",
            "Epoch 48/200\n",
            "500/500 [==============================] - 0s 44us/step - loss: 0.6100 - acc: 0.6520\n",
            "Epoch 49/200\n",
            "500/500 [==============================] - 0s 49us/step - loss: 0.6109 - acc: 0.6520\n",
            "Epoch 50/200\n",
            "500/500 [==============================] - 0s 46us/step - loss: 0.6122 - acc: 0.6600\n",
            "Epoch 51/200\n",
            "500/500 [==============================] - 0s 53us/step - loss: 0.6077 - acc: 0.6420\n",
            "Epoch 52/200\n",
            "500/500 [==============================] - 0s 52us/step - loss: 0.6061 - acc: 0.6480\n",
            "Epoch 53/200\n",
            "500/500 [==============================] - 0s 47us/step - loss: 0.6058 - acc: 0.6620\n",
            "Epoch 54/200\n",
            "500/500 [==============================] - 0s 41us/step - loss: 0.6056 - acc: 0.6580\n",
            "Epoch 55/200\n",
            "500/500 [==============================] - 0s 41us/step - loss: 0.6046 - acc: 0.6500\n",
            "Epoch 56/200\n",
            "500/500 [==============================] - 0s 52us/step - loss: 0.6037 - acc: 0.6480\n",
            "Epoch 57/200\n",
            "500/500 [==============================] - 0s 43us/step - loss: 0.6039 - acc: 0.6440\n",
            "Epoch 58/200\n",
            "500/500 [==============================] - 0s 60us/step - loss: 0.6017 - acc: 0.6520\n",
            "Epoch 59/200\n",
            "500/500 [==============================] - 0s 48us/step - loss: 0.6032 - acc: 0.6540\n",
            "Epoch 60/200\n",
            "500/500 [==============================] - 0s 41us/step - loss: 0.6041 - acc: 0.6500\n",
            "Epoch 61/200\n",
            "500/500 [==============================] - 0s 61us/step - loss: 0.6007 - acc: 0.6560\n",
            "Epoch 62/200\n",
            "500/500 [==============================] - 0s 42us/step - loss: 0.6007 - acc: 0.6580\n",
            "Epoch 63/200\n",
            "500/500 [==============================] - 0s 46us/step - loss: 0.5971 - acc: 0.6500\n",
            "Epoch 64/200\n",
            "500/500 [==============================] - 0s 52us/step - loss: 0.5998 - acc: 0.6640\n",
            "Epoch 65/200\n",
            "500/500 [==============================] - 0s 44us/step - loss: 0.6003 - acc: 0.6500\n",
            "Epoch 66/200\n",
            "500/500 [==============================] - 0s 39us/step - loss: 0.5966 - acc: 0.6520\n",
            "Epoch 67/200\n",
            "500/500 [==============================] - 0s 46us/step - loss: 0.5964 - acc: 0.6440\n",
            "Epoch 68/200\n",
            "500/500 [==============================] - 0s 43us/step - loss: 0.5950 - acc: 0.6540\n",
            "Epoch 69/200\n",
            "500/500 [==============================] - 0s 50us/step - loss: 0.5999 - acc: 0.6620\n",
            "Epoch 70/200\n",
            "500/500 [==============================] - 0s 53us/step - loss: 0.5995 - acc: 0.6620\n",
            "Epoch 71/200\n",
            "500/500 [==============================] - 0s 42us/step - loss: 0.6006 - acc: 0.6540\n",
            "Epoch 72/200\n",
            "500/500 [==============================] - 0s 55us/step - loss: 0.5982 - acc: 0.6520\n",
            "Epoch 73/200\n",
            "500/500 [==============================] - 0s 45us/step - loss: 0.5954 - acc: 0.6620\n",
            "Epoch 74/200\n",
            "500/500 [==============================] - 0s 54us/step - loss: 0.5958 - acc: 0.6480\n",
            "Epoch 75/200\n",
            "500/500 [==============================] - 0s 42us/step - loss: 0.5966 - acc: 0.6520\n",
            "Epoch 76/200\n",
            "500/500 [==============================] - 0s 54us/step - loss: 0.5961 - acc: 0.6620\n",
            "Epoch 77/200\n",
            "500/500 [==============================] - 0s 55us/step - loss: 0.5944 - acc: 0.6560\n",
            "Epoch 78/200\n",
            "500/500 [==============================] - 0s 50us/step - loss: 0.5931 - acc: 0.6560\n",
            "Epoch 79/200\n",
            "500/500 [==============================] - 0s 46us/step - loss: 0.5940 - acc: 0.6580\n",
            "Epoch 80/200\n",
            "500/500 [==============================] - 0s 44us/step - loss: 0.5909 - acc: 0.6560\n",
            "Epoch 81/200\n",
            "500/500 [==============================] - 0s 45us/step - loss: 0.5945 - acc: 0.6720\n",
            "Epoch 82/200\n",
            "500/500 [==============================] - 0s 45us/step - loss: 0.5985 - acc: 0.6640\n",
            "Epoch 83/200\n",
            "500/500 [==============================] - 0s 42us/step - loss: 0.5918 - acc: 0.6860\n",
            "Epoch 84/200\n",
            "500/500 [==============================] - 0s 46us/step - loss: 0.5920 - acc: 0.6600\n",
            "Epoch 85/200\n",
            "500/500 [==============================] - 0s 42us/step - loss: 0.5909 - acc: 0.6680\n",
            "Epoch 86/200\n",
            "500/500 [==============================] - 0s 59us/step - loss: 0.5911 - acc: 0.6560\n",
            "Epoch 87/200\n",
            "500/500 [==============================] - 0s 56us/step - loss: 0.5896 - acc: 0.6600\n",
            "Epoch 88/200\n",
            "500/500 [==============================] - 0s 41us/step - loss: 0.5931 - acc: 0.6540\n",
            "Epoch 89/200\n",
            "500/500 [==============================] - 0s 41us/step - loss: 0.5893 - acc: 0.6540\n",
            "Epoch 90/200\n",
            "500/500 [==============================] - 0s 52us/step - loss: 0.5887 - acc: 0.6600\n",
            "Epoch 91/200\n",
            "500/500 [==============================] - 0s 48us/step - loss: 0.5890 - acc: 0.6700\n",
            "Epoch 92/200\n",
            "500/500 [==============================] - 0s 48us/step - loss: 0.5895 - acc: 0.6600\n",
            "Epoch 93/200\n",
            "500/500 [==============================] - 0s 46us/step - loss: 0.5897 - acc: 0.6720\n",
            "Epoch 94/200\n",
            "500/500 [==============================] - 0s 51us/step - loss: 0.5878 - acc: 0.6580\n",
            "Epoch 95/200\n",
            "500/500 [==============================] - 0s 55us/step - loss: 0.5898 - acc: 0.6640\n",
            "Epoch 96/200\n",
            "500/500 [==============================] - 0s 49us/step - loss: 0.5887 - acc: 0.6620\n",
            "Epoch 97/200\n",
            "500/500 [==============================] - 0s 51us/step - loss: 0.5881 - acc: 0.6660\n",
            "Epoch 98/200\n",
            "500/500 [==============================] - 0s 55us/step - loss: 0.5883 - acc: 0.6560\n",
            "Epoch 99/200\n",
            "500/500 [==============================] - 0s 51us/step - loss: 0.5868 - acc: 0.6760\n",
            "Epoch 100/200\n",
            "500/500 [==============================] - 0s 65us/step - loss: 0.5910 - acc: 0.6600\n",
            "Epoch 101/200\n",
            "500/500 [==============================] - 0s 63us/step - loss: 0.5891 - acc: 0.6720\n",
            "Epoch 102/200\n",
            "500/500 [==============================] - 0s 47us/step - loss: 0.5861 - acc: 0.6620\n",
            "Epoch 103/200\n",
            "500/500 [==============================] - 0s 55us/step - loss: 0.5871 - acc: 0.6720\n",
            "Epoch 104/200\n",
            "500/500 [==============================] - 0s 55us/step - loss: 0.5865 - acc: 0.6680\n",
            "Epoch 105/200\n",
            "500/500 [==============================] - 0s 55us/step - loss: 0.5854 - acc: 0.6700\n",
            "Epoch 106/200\n",
            "500/500 [==============================] - 0s 46us/step - loss: 0.5862 - acc: 0.6600\n",
            "Epoch 107/200\n",
            "500/500 [==============================] - 0s 69us/step - loss: 0.5875 - acc: 0.6780\n",
            "Epoch 108/200\n",
            "500/500 [==============================] - 0s 58us/step - loss: 0.5873 - acc: 0.6600\n",
            "Epoch 109/200\n",
            "500/500 [==============================] - 0s 56us/step - loss: 0.5848 - acc: 0.6740\n",
            "Epoch 110/200\n",
            "500/500 [==============================] - 0s 57us/step - loss: 0.5845 - acc: 0.6660\n",
            "Epoch 111/200\n",
            "500/500 [==============================] - 0s 58us/step - loss: 0.5876 - acc: 0.6700\n",
            "Epoch 112/200\n",
            "500/500 [==============================] - 0s 66us/step - loss: 0.5836 - acc: 0.6600\n",
            "Epoch 113/200\n",
            "500/500 [==============================] - 0s 62us/step - loss: 0.5841 - acc: 0.6640\n",
            "Epoch 114/200\n",
            "500/500 [==============================] - 0s 43us/step - loss: 0.5858 - acc: 0.6640\n",
            "Epoch 115/200\n",
            "500/500 [==============================] - 0s 44us/step - loss: 0.5838 - acc: 0.6700\n",
            "Epoch 116/200\n",
            "500/500 [==============================] - 0s 41us/step - loss: 0.5842 - acc: 0.6740\n",
            "Epoch 117/200\n",
            "500/500 [==============================] - 0s 45us/step - loss: 0.5826 - acc: 0.6700\n",
            "Epoch 118/200\n",
            "500/500 [==============================] - 0s 51us/step - loss: 0.5853 - acc: 0.6660\n",
            "Epoch 119/200\n",
            "500/500 [==============================] - 0s 43us/step - loss: 0.5880 - acc: 0.6620\n",
            "Epoch 120/200\n",
            "500/500 [==============================] - 0s 42us/step - loss: 0.5826 - acc: 0.6740\n",
            "Epoch 121/200\n",
            "500/500 [==============================] - 0s 54us/step - loss: 0.5818 - acc: 0.6760\n",
            "Epoch 122/200\n",
            "500/500 [==============================] - 0s 54us/step - loss: 0.5821 - acc: 0.6680\n",
            "Epoch 123/200\n",
            "500/500 [==============================] - 0s 54us/step - loss: 0.5846 - acc: 0.6680\n",
            "Epoch 124/200\n",
            "500/500 [==============================] - 0s 53us/step - loss: 0.5883 - acc: 0.6620\n",
            "Epoch 125/200\n",
            "500/500 [==============================] - 0s 43us/step - loss: 0.5846 - acc: 0.6600\n",
            "Epoch 126/200\n",
            "500/500 [==============================] - 0s 44us/step - loss: 0.5828 - acc: 0.6740\n",
            "Epoch 127/200\n",
            "500/500 [==============================] - 0s 44us/step - loss: 0.5849 - acc: 0.6720\n",
            "Epoch 128/200\n",
            "500/500 [==============================] - 0s 44us/step - loss: 0.5801 - acc: 0.6740\n",
            "Epoch 129/200\n",
            "500/500 [==============================] - 0s 50us/step - loss: 0.5832 - acc: 0.6680\n",
            "Epoch 130/200\n",
            "500/500 [==============================] - 0s 58us/step - loss: 0.5824 - acc: 0.6700\n",
            "Epoch 131/200\n",
            "500/500 [==============================] - 0s 42us/step - loss: 0.5906 - acc: 0.6740\n",
            "Epoch 132/200\n",
            "500/500 [==============================] - 0s 65us/step - loss: 0.5878 - acc: 0.6560\n",
            "Epoch 133/200\n",
            "500/500 [==============================] - 0s 60us/step - loss: 0.5853 - acc: 0.6680\n",
            "Epoch 134/200\n",
            "500/500 [==============================] - 0s 55us/step - loss: 0.5823 - acc: 0.6600\n",
            "Epoch 135/200\n",
            "500/500 [==============================] - 0s 52us/step - loss: 0.5811 - acc: 0.6700\n",
            "Epoch 136/200\n",
            "500/500 [==============================] - 0s 57us/step - loss: 0.5814 - acc: 0.6720\n",
            "Epoch 137/200\n",
            "500/500 [==============================] - 0s 51us/step - loss: 0.5841 - acc: 0.6620\n",
            "Epoch 138/200\n",
            "500/500 [==============================] - 0s 50us/step - loss: 0.5806 - acc: 0.6720\n",
            "Epoch 139/200\n",
            "500/500 [==============================] - 0s 50us/step - loss: 0.5827 - acc: 0.6700\n",
            "Epoch 140/200\n",
            "500/500 [==============================] - 0s 48us/step - loss: 0.5808 - acc: 0.6800\n",
            "Epoch 141/200\n",
            "500/500 [==============================] - 0s 45us/step - loss: 0.5836 - acc: 0.6620\n",
            "Epoch 142/200\n",
            "500/500 [==============================] - 0s 49us/step - loss: 0.5903 - acc: 0.6780\n",
            "Epoch 143/200\n",
            "500/500 [==============================] - 0s 45us/step - loss: 0.5824 - acc: 0.6720\n",
            "Epoch 144/200\n",
            "500/500 [==============================] - 0s 47us/step - loss: 0.5854 - acc: 0.6680\n",
            "Epoch 145/200\n",
            "500/500 [==============================] - 0s 48us/step - loss: 0.5808 - acc: 0.6540\n",
            "Epoch 146/200\n",
            "500/500 [==============================] - 0s 46us/step - loss: 0.5813 - acc: 0.6620\n",
            "Epoch 147/200\n",
            "500/500 [==============================] - 0s 48us/step - loss: 0.5781 - acc: 0.6720\n",
            "Epoch 148/200\n",
            "500/500 [==============================] - 0s 50us/step - loss: 0.5785 - acc: 0.6700\n",
            "Epoch 149/200\n",
            "500/500 [==============================] - 0s 54us/step - loss: 0.5779 - acc: 0.6740\n",
            "Epoch 150/200\n",
            "500/500 [==============================] - 0s 46us/step - loss: 0.5776 - acc: 0.6700\n",
            "Epoch 151/200\n",
            "500/500 [==============================] - 0s 49us/step - loss: 0.5776 - acc: 0.6740\n",
            "Epoch 152/200\n",
            "500/500 [==============================] - 0s 46us/step - loss: 0.5765 - acc: 0.6680\n",
            "Epoch 153/200\n",
            "500/500 [==============================] - 0s 47us/step - loss: 0.5795 - acc: 0.6760\n",
            "Epoch 154/200\n",
            "500/500 [==============================] - 0s 49us/step - loss: 0.5826 - acc: 0.6760\n",
            "Epoch 155/200\n",
            "500/500 [==============================] - 0s 52us/step - loss: 0.5780 - acc: 0.6680\n",
            "Epoch 156/200\n",
            "500/500 [==============================] - 0s 59us/step - loss: 0.5783 - acc: 0.6660\n",
            "Epoch 157/200\n",
            "500/500 [==============================] - 0s 44us/step - loss: 0.5774 - acc: 0.6760\n",
            "Epoch 158/200\n",
            "500/500 [==============================] - 0s 42us/step - loss: 0.5768 - acc: 0.6720\n",
            "Epoch 159/200\n",
            "500/500 [==============================] - 0s 43us/step - loss: 0.5759 - acc: 0.6700\n",
            "Epoch 160/200\n",
            "500/500 [==============================] - 0s 42us/step - loss: 0.5816 - acc: 0.6700\n",
            "Epoch 161/200\n",
            "500/500 [==============================] - 0s 43us/step - loss: 0.5765 - acc: 0.6800\n",
            "Epoch 162/200\n",
            "500/500 [==============================] - 0s 42us/step - loss: 0.5760 - acc: 0.6760\n",
            "Epoch 163/200\n",
            "500/500 [==============================] - 0s 43us/step - loss: 0.5788 - acc: 0.6680\n",
            "Epoch 164/200\n",
            "500/500 [==============================] - 0s 63us/step - loss: 0.5736 - acc: 0.6800\n",
            "Epoch 165/200\n",
            "500/500 [==============================] - 0s 44us/step - loss: 0.5762 - acc: 0.6780\n",
            "Epoch 166/200\n",
            "500/500 [==============================] - 0s 48us/step - loss: 0.5774 - acc: 0.6680\n",
            "Epoch 167/200\n",
            "500/500 [==============================] - 0s 44us/step - loss: 0.5749 - acc: 0.6780\n",
            "Epoch 168/200\n",
            "500/500 [==============================] - 0s 44us/step - loss: 0.5754 - acc: 0.6700\n",
            "Epoch 169/200\n",
            "500/500 [==============================] - 0s 54us/step - loss: 0.5752 - acc: 0.6740\n",
            "Epoch 170/200\n",
            "500/500 [==============================] - 0s 41us/step - loss: 0.5744 - acc: 0.6680\n",
            "Epoch 171/200\n",
            "500/500 [==============================] - 0s 47us/step - loss: 0.5733 - acc: 0.6800\n",
            "Epoch 172/200\n",
            "500/500 [==============================] - 0s 49us/step - loss: 0.5744 - acc: 0.6660\n",
            "Epoch 173/200\n",
            "500/500 [==============================] - 0s 42us/step - loss: 0.5740 - acc: 0.6700\n",
            "Epoch 174/200\n",
            "500/500 [==============================] - 0s 51us/step - loss: 0.5753 - acc: 0.6820\n",
            "Epoch 175/200\n",
            "500/500 [==============================] - 0s 42us/step - loss: 0.5745 - acc: 0.6660\n",
            "Epoch 176/200\n",
            "500/500 [==============================] - 0s 48us/step - loss: 0.5736 - acc: 0.6680\n",
            "Epoch 177/200\n",
            "500/500 [==============================] - 0s 52us/step - loss: 0.5766 - acc: 0.6880\n",
            "Epoch 178/200\n",
            "500/500 [==============================] - 0s 49us/step - loss: 0.5749 - acc: 0.6800\n",
            "Epoch 179/200\n",
            "500/500 [==============================] - 0s 50us/step - loss: 0.5735 - acc: 0.6820\n",
            "Epoch 180/200\n",
            "500/500 [==============================] - 0s 44us/step - loss: 0.5758 - acc: 0.6740\n",
            "Epoch 181/200\n",
            "500/500 [==============================] - 0s 43us/step - loss: 0.5706 - acc: 0.6760\n",
            "Epoch 182/200\n",
            "500/500 [==============================] - 0s 53us/step - loss: 0.5748 - acc: 0.6700\n",
            "Epoch 183/200\n",
            "500/500 [==============================] - 0s 52us/step - loss: 0.5758 - acc: 0.6860\n",
            "Epoch 184/200\n",
            "500/500 [==============================] - 0s 48us/step - loss: 0.5762 - acc: 0.6720\n",
            "Epoch 185/200\n",
            "500/500 [==============================] - 0s 56us/step - loss: 0.5758 - acc: 0.6700\n",
            "Epoch 186/200\n",
            "500/500 [==============================] - 0s 46us/step - loss: 0.5748 - acc: 0.6780\n",
            "Epoch 187/200\n",
            "500/500 [==============================] - 0s 48us/step - loss: 0.5732 - acc: 0.6700\n",
            "Epoch 188/200\n",
            "500/500 [==============================] - 0s 53us/step - loss: 0.5764 - acc: 0.6820\n",
            "Epoch 189/200\n",
            "500/500 [==============================] - 0s 47us/step - loss: 0.5710 - acc: 0.6820\n",
            "Epoch 190/200\n",
            "500/500 [==============================] - 0s 42us/step - loss: 0.5705 - acc: 0.6700\n",
            "Epoch 191/200\n",
            "500/500 [==============================] - 0s 44us/step - loss: 0.5730 - acc: 0.6840\n",
            "Epoch 192/200\n",
            "500/500 [==============================] - 0s 41us/step - loss: 0.5710 - acc: 0.6780\n",
            "Epoch 193/200\n",
            "500/500 [==============================] - 0s 48us/step - loss: 0.5700 - acc: 0.6860\n",
            "Epoch 194/200\n",
            "500/500 [==============================] - 0s 49us/step - loss: 0.5686 - acc: 0.6740\n",
            "Epoch 195/200\n",
            "500/500 [==============================] - 0s 43us/step - loss: 0.5738 - acc: 0.6740\n",
            "Epoch 196/200\n",
            "500/500 [==============================] - 0s 41us/step - loss: 0.5725 - acc: 0.6780\n",
            "Epoch 197/200\n",
            "500/500 [==============================] - 0s 53us/step - loss: 0.5734 - acc: 0.6820\n",
            "Epoch 198/200\n",
            "500/500 [==============================] - 0s 48us/step - loss: 0.5682 - acc: 0.6800\n",
            "Epoch 199/200\n",
            "500/500 [==============================] - 0s 41us/step - loss: 0.5687 - acc: 0.6820\n",
            "Epoch 200/200\n",
            "500/500 [==============================] - 0s 47us/step - loss: 0.5735 - acc: 0.6780\n"
          ],
          "name": "stdout"
        },
        {
          "output_type": "execute_result",
          "data": {
            "text/plain": [
              "<keras.callbacks.History at 0x7ff1ccddac90>"
            ]
          },
          "metadata": {
            "tags": []
          },
          "execution_count": 11
        }
      ]
    },
    {
      "cell_type": "markdown",
      "metadata": {
        "id": "dpVqTQUH3rbT",
        "colab_type": "text"
      },
      "source": [
        "# Step 6.  Score the Model"
      ]
    },
    {
      "cell_type": "code",
      "metadata": {
        "id": "74Z7E2oN3rbT",
        "colab_type": "code",
        "colab": {
          "base_uri": "https://localhost:8080/",
          "height": 51
        },
        "outputId": "3c4deff7-2a9b-4665-a114-a4a2ff7e30ad"
      },
      "source": [
        "scores = model.evaluate(X, Y)\n",
        "print(\"%s: %.2f%%\" % (model.metrics_names[1], scores[1]*100))\n"
      ],
      "execution_count": 12,
      "outputs": [
        {
          "output_type": "stream",
          "text": [
            "500/500 [==============================] - 0s 94us/step\n",
            "acc: 69.40%\n"
          ],
          "name": "stdout"
        }
      ]
    }
  ]
}